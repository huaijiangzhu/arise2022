{
 "cells": [
  {
   "cell_type": "code",
   "execution_count": 1,
   "id": "03e5e23f",
   "metadata": {},
   "outputs": [],
   "source": [
    "import meshcat\n",
    "import meshcat.geometry as g\n",
    "import meshcat.transformations as tf"
   ]
  },
  {
   "cell_type": "code",
   "execution_count": 2,
   "id": "9dfec4ac",
   "metadata": {},
   "outputs": [],
   "source": [
    "import numpy as np\n",
    "import pinocchio as pin\n",
    "import time\n",
    "import os\n",
    "import re\n",
    "from pinocchio.robot_wrapper import RobotWrapper\n",
    "\n",
    "from utils import *\n",
    "from inverse_kinematics import *"
   ]
  },
  {
   "cell_type": "code",
   "execution_count": 3,
   "id": "b36efda5",
   "metadata": {},
   "outputs": [],
   "source": [
    "%%capture\n",
    "from meshcat.servers.zmqserver import start_zmq_server_as_subprocess\n",
    "proc, zmq_url, web_url = start_zmq_server_as_subprocess()\n",
    "viewer = meshcat.Visualizer(zmq_url=zmq_url)\n",
    "\n",
    "ip_addr_regex = re.compile(r'\\b(?:[0-9]{1,3}\\.){3}[0-9]{1,3}\\b')\n",
    "public_ip = '137.184.48.127'\n",
    "public_url = re.sub(ip_addr_regex, public_ip, web_url)\n",
    "viewer.window.web_url = public_url"
   ]
  },
  {
   "cell_type": "code",
   "execution_count": 14,
   "id": "6583a583",
   "metadata": {},
   "outputs": [
    {
     "name": "stdout",
     "output_type": "stream",
     "text": [
      "You can open the visualizer by visiting the following URL:\n",
      "http://137.184.48.127:7001/static/\n"
     ]
    }
   ],
   "source": [
    "robot = RobotWrapper.BuildFromURDF('./urdf/arm.urdf', './urdf')\n",
    "viz = pin.visualize.MeshcatVisualizer(\n",
    "    robot.model, robot.collision_model, robot.visual_model\n",
    ")\n",
    "viz.initViewer(viewer)\n",
    "viz.loadViewerModel()\n",
    "vis = viz.viewer\n",
    "print('You can open the visualizer by visiting the following URL:')\n",
    "print(viewer.window.web_url)\n",
    "viz.display(np.zeros(5))\n",
    "vis[\"wrist\"].set_transform(tf.translation_matrix([0.1,0,-0.7]))\n",
    "vis[\"elbow\"].set_transform(tf.translation_matrix([0.1,0,-0.35]))"
   ]
  },
  {
   "cell_type": "code",
   "execution_count": 5,
   "id": "7dc18481",
   "metadata": {},
   "outputs": [],
   "source": [
    "config = {'vertical': ['Top', 'Middle','Bottom'],\n",
    "          'horizontal': ['Left', 'Center', 'Right'],\n",
    "          'traj_ids': [1, 2],\n",
    "          'subject_ids': [2, 3, 4]}\n",
    "traj = getExtendedTraj(0, 0, \"PositionTopLeftTrajectory1Subject3\", config)"
   ]
  },
  {
   "cell_type": "code",
   "execution_count": 6,
   "id": "cc0e23cb",
   "metadata": {},
   "outputs": [],
   "source": [
    "wrist_pos = traj[:, 17:20]\n",
    "elbow_pos = traj[:, 5:8]\n",
    "shoulder_pos = traj[:, 11:14]\n",
    "wrist_rel = 1 / 1000 * (wrist_pos - shoulder_pos)\n",
    "elbow_rel = 1 / 1000 * (elbow_pos - shoulder_pos)"
   ]
  },
  {
   "cell_type": "code",
   "execution_count": 7,
   "id": "8cba21f4",
   "metadata": {},
   "outputs": [],
   "source": [
    "def calculateJointTrajWrist(traj):\n",
    "    wrist_pos = traj[:, 17:20]\n",
    "    shoulder_pos = traj[:, 11:14]\n",
    "    wrist_rel = 1 / 1000 * (wrist_pos - shoulder_pos)\n",
    "    q = np.zeros(5)\n",
    "    traj_q = np.zeros((len(wrist_rel), 5))\n",
    "    frame_id = robot.model.getFrameId('wrist')\n",
    "    q_previous = findAngle(wrist_rel[0, :], q, robot, frame_id)          \n",
    "\n",
    "    for n in range(len(wrist_rel)):\n",
    "        p_des = wrist_rel[n, :]\n",
    "        q = findAngle(p_des, q, robot, frame_id)\n",
    "        \n",
    "        if isinstance(q, bool):\n",
    "            q = q_previous\n",
    "        else: \n",
    "            q_previous = findAngle(p_des, q, robot, frame_id)          \n",
    "            \n",
    "        traj_q[n, :] = q_previous\n",
    "    \n",
    "    return traj_q"
   ]
  },
  {
   "cell_type": "code",
   "execution_count": 8,
   "id": "675ca876",
   "metadata": {},
   "outputs": [],
   "source": [
    "def calculateJointTrajWristElbow(traj):\n",
    "    wrist_pos = traj[:, 17:20]\n",
    "    elbow_pos = traj[:, 5:8]\n",
    "    shoulder_pos = traj[:, 11:14]\n",
    "    wrist_rel = 1 / 1000 * (wrist_pos - shoulder_pos)\n",
    "    elbow_rel = 1 / 1000 * (elbow_pos - shoulder_pos)\n",
    "    \n",
    "    traj_q = np.zeros((len(wrist_rel), 5))\n",
    "    frame_id_wrist = robot.model.getFrameId('wrist')\n",
    "    frame_id_elbow = robot.model.getFrameId('elbow')\n",
    "    angles_previous = findAngleTwoFrames(robot, wrist_rel[0, :], elbow_rel[0, :], \n",
    "                                         frame_id_wrist, frame_id_elbow, np.zeros(5))\n",
    "    \n",
    "    for n in range(len(wrist_rel)):\n",
    "        p_des_wrist = wrist_rel[n, :]\n",
    "        p_des_elbow = elbow_rel[n, :]\n",
    "        angles = findAngleTwoFrames(robot, p_des_wrist, p_des_elbow, \n",
    "                                    frame_id_wrist, frame_id_elbow, angles_previous)\n",
    "        \n",
    "        if isinstance(angles, bool):\n",
    "            angles = angles_previous\n",
    "        else: \n",
    "            angles_previous = findAngleTwoFrames(robot, p_des_wrist, p_des_elbow, \n",
    "                                                 frame_id_wrist, frame_id_elbow, angles_previous)          \n",
    "            \n",
    "        traj_q[n, :] = angles\n",
    "\n",
    "\n",
    "    return traj_q"
   ]
  },
  {
   "cell_type": "code",
   "execution_count": 9,
   "id": "c729dbdc",
   "metadata": {
    "scrolled": true
   },
   "outputs": [],
   "source": [
    "traj_q_wrist = calculateJointTrajWrist(traj)\n",
    "traj_q_wrist_elbow = calculateJointTrajWristElbow(traj)"
   ]
  },
  {
   "cell_type": "code",
   "execution_count": 27,
   "id": "7dc6a612",
   "metadata": {},
   "outputs": [],
   "source": [
    "traj_viz = traj_q_wrist_elbow\n",
    "vis[\"elbow\"].set_object(g.Sphere(1/40), \n",
    "                        g.MeshLambertMaterial(\n",
    "                             color=0x0000FF,\n",
    "                             reflectivity=0))\n",
    "vis[\"wrist\"].set_object(g.Sphere(1/40), \n",
    "                        g.MeshLambertMaterial(\n",
    "                             color=0xFF0000,\n",
    "                             reflectivity=0))\n",
    "\n",
    "for n in range(len(traj_viz)):\n",
    "    vis[\"wrist\"].set_transform(tf.translation_matrix(wrist_rel[n]))\n",
    "    vis[\"elbow\"].set_transform(tf.translation_matrix(elbow_rel[n]))\n",
    "    viz.display(traj_viz[n])\n",
    "    time.sleep(0.00125)"
   ]
  },
  {
   "cell_type": "code",
   "execution_count": 35,
   "id": "4d3dab12",
   "metadata": {},
   "outputs": [],
   "source": [
    "traj_viz = traj_q_wrist_elbow\n",
    "n = 400\n",
    "vis[\"wrist\"].set_transform(tf.translation_matrix(wrist_rel[n]))\n",
    "vis[\"elbow\"].set_transform(tf.translation_matrix(elbow_rel[n]))\n",
    "viz.display(traj_viz[n])\n",
    "time.sleep(0.00125)"
   ]
  },
  {
   "cell_type": "code",
   "execution_count": null,
   "id": "277accab",
   "metadata": {},
   "outputs": [],
   "source": [
    "from meshcat.animation import Animation\n",
    "import meshcat.transformations as tf\n",
    "from meshcat.animation import convert_frames_to_video"
   ]
  },
  {
   "cell_type": "code",
   "execution_count": null,
   "id": "96499481",
   "metadata": {},
   "outputs": [],
   "source": [
    "anim = Animation()\n",
    "\n",
    "camera_path = \"/Cameras/default/rotated/<object>\"\n",
    "\n",
    "with anim.at_frame(vis, 0) as frame:\n",
    "    frame[camera_path].set_property(\"zoom\", \"number\", 1)\n",
    "with anim.at_frame(vis, 30) as frame:\n",
    "    frame[camera_path].set_property(\"zoom\", \"number\", 0.5)\n",
    "with anim.at_frame(vis, 60) as frame:\n",
    "    frame[camera_path].set_property(\"zoom\", \"number\", 1)\n",
    "    \n",
    "# While we're animating the camera zoom, we can also animate any other\n",
    "# properties we want. Let's simultaneously translate the box during \n",
    "# the same animation:\n",
    "with anim.at_frame(vis, 0) as frame:\n",
    "    frame[\"box1\"].set_transform(tf.translation_matrix([0, -1, 0]))\n",
    "with anim.at_frame(vis, 60) as frame:\n",
    "    frame[\"box1\"].set_transform(tf.translation_matrix([0, 1, 0]))\n",
    "\n",
    "vis.set_animation(anim)"
   ]
  },
  {
   "cell_type": "code",
   "execution_count": null,
   "id": "fd3083d5",
   "metadata": {},
   "outputs": [],
   "source": [
    "convert_frames_to_video(\"test_animation.tar\", overwrite=True)"
   ]
  },
  {
   "cell_type": "code",
   "execution_count": null,
   "id": "1ec9ff8b",
   "metadata": {},
   "outputs": [],
   "source": []
  }
 ],
 "metadata": {
  "kernelspec": {
   "display_name": "Python 3 (ipykernel)",
   "language": "python",
   "name": "python3"
  },
  "language_info": {
   "codemirror_mode": {
    "name": "ipython",
    "version": 3
   },
   "file_extension": ".py",
   "mimetype": "text/x-python",
   "name": "python",
   "nbconvert_exporter": "python",
   "pygments_lexer": "ipython3",
   "version": "3.9.7"
  }
 },
 "nbformat": 4,
 "nbformat_minor": 5
}

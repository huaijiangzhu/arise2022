{
 "cells": [
  {
   "cell_type": "code",
   "execution_count": 1,
   "id": "90321d55",
   "metadata": {},
   "outputs": [],
   "source": [
    "%load_ext autoreload\n",
    "%autoreload 2"
   ]
  },
  {
   "cell_type": "code",
   "execution_count": 2,
   "id": "eef53e87",
   "metadata": {},
   "outputs": [],
   "source": [
    "import numpy as np\n",
    "import pinocchio as pin\n",
    "import meshcat\n",
    "import re\n",
    "from pinocchio.robot_wrapper import RobotWrapper\n",
    "\n",
    "from utils import *\n",
    "from inverse_kinematics import *"
   ]
  },
  {
   "cell_type": "markdown",
   "id": "404873cb",
   "metadata": {},
   "source": [
    "## Initialize the Robot and the Visualizer"
   ]
  },
  {
   "cell_type": "code",
   "execution_count": 3,
   "id": "0976dd37",
   "metadata": {},
   "outputs": [],
   "source": [
    "%%capture\n",
    "from meshcat.servers.zmqserver import start_zmq_server_as_subprocess\n",
    "proc, zmq_url, web_url = start_zmq_server_as_subprocess()\n",
    "viewer = meshcat.Visualizer(zmq_url=zmq_url)\n",
    "\n",
    "## comment out the following code if you're running the notebook locally\n",
    "ip_addr_regex = re.compile(r'\\b(?:[0-9]{1,3}\\.){3}[0-9]{1,3}\\b')\n",
    "public_ip = '137.184.48.127'\n",
    "public_url = re.sub(ip_addr_regex, public_ip, web_url)\n",
    "viewer.window.web_url = public_url"
   ]
  },
  {
   "cell_type": "code",
   "execution_count": 4,
   "id": "acb60fce",
   "metadata": {},
   "outputs": [
    {
     "name": "stdout",
     "output_type": "stream",
     "text": [
      "You can open the visualizer by visiting the following URL:\n",
      "http://137.184.48.127:7000/static/\n"
     ]
    }
   ],
   "source": [
    "robot = RobotWrapper.BuildFromURDF('./urdf/arm.urdf', './urdf')\n",
    "viz = pin.visualize.MeshcatVisualizer(\n",
    "    robot.model, robot.collision_model, robot.visual_model\n",
    ")\n",
    "viz.initViewer(viewer)\n",
    "viz.loadViewerModel()\n",
    "print('You can open the visualizer by visiting the following URL:')\n",
    "print(viewer.window.web_url)"
   ]
  },
  {
   "cell_type": "markdown",
   "id": "281a2e1c",
   "metadata": {},
   "source": [
    "## Load Data"
   ]
  },
  {
   "cell_type": "code",
   "execution_count": 5,
   "id": "a22b54be",
   "metadata": {},
   "outputs": [],
   "source": [
    "config = {'vertical': ['Top', 'Middle','Bottom'],\n",
    "          'horizontal': ['Left', 'Center', 'Right'],\n",
    "          'traj_ids': [1, 2],\n",
    "          'subject_ids': [2, 3, 4]}"
   ]
  },
  {
   "cell_type": "code",
   "execution_count": 6,
   "id": "976c049f",
   "metadata": {},
   "outputs": [],
   "source": [
    "traj = getExtendedTraj(0, 1, \"PositionTopCenterTrajectory1Subject3\", config)"
   ]
  },
  {
   "cell_type": "markdown",
   "id": "515affe1",
   "metadata": {},
   "source": [
    "## Inverse Kinematics for a Single Frame (Wrist)"
   ]
  },
  {
   "cell_type": "code",
   "execution_count": 7,
   "id": "09af6714",
   "metadata": {},
   "outputs": [],
   "source": [
    "def calculateJointTrajWrist(traj):\n",
    "    wrist_pos = traj[:, 17:20]\n",
    "    shoulder_pos = traj[:, 11:14]\n",
    "    wrist_rel = 1 / 1000 * (wrist_pos - shoulder_pos)\n",
    "    q = np.zeros(5)\n",
    "    traj_q = np.zeros((len(wrist_rel), 5))\n",
    "    frame_id = robot.model.getFrameId('wrist')\n",
    "    q_previous = findAngle(wrist_rel[0, :], q, robot, frame_id)          \n",
    "\n",
    "    for n in range(len(wrist_rel)):\n",
    "        p_des = wrist_rel[n, :]\n",
    "        q = findAngle(p_des, q, robot, frame_id)\n",
    "        \n",
    "        if isinstance(q, bool):\n",
    "            q = q_previous\n",
    "        else: \n",
    "            q_previous = findAngle(p_des, q, robot, frame_id)          \n",
    "            \n",
    "        traj_q[n, :] = q_previous\n",
    "    \n",
    "    return traj_q"
   ]
  },
  {
   "cell_type": "code",
   "execution_count": 8,
   "id": "9376d4bc",
   "metadata": {},
   "outputs": [],
   "source": [
    "traj_q = calculateJointTrajWrist(traj)"
   ]
  },
  {
   "cell_type": "code",
   "execution_count": 9,
   "id": "ae7edfe4",
   "metadata": {},
   "outputs": [],
   "source": [
    "visualizeJointTraj(traj_q, viz)"
   ]
  },
  {
   "cell_type": "markdown",
   "id": "d9a95901",
   "metadata": {},
   "source": [
    "## Inverse Kinematics for Two Frames (Wrist and Elbow)"
   ]
  },
  {
   "cell_type": "code",
   "execution_count": 10,
   "id": "4ea9f661",
   "metadata": {},
   "outputs": [],
   "source": [
    "def calculateJointTrajWristElbow(traj):\n",
    "    wrist_pos = traj[:, 17:20]\n",
    "    elbow_pos = traj[:, 5:8]\n",
    "    shoulder_pos = traj[:, 11:14]\n",
    "    wrist_rel = 1 / 1000 * (wrist_pos - shoulder_pos)\n",
    "    elbow_rel = 1 / 1000 * (elbow_pos - shoulder_pos)\n",
    "    \n",
    "    traj_q = np.zeros((len(wrist_rel), 5))\n",
    "    frame_id_wrist = robot.model.getFrameId('wrist')\n",
    "    frame_id_elbow = robot.model.getFrameId('elbow')\n",
    "    angles_previous = findAngleTwoFrames(robot, wrist_rel[0, :], elbow_rel[0, :], \n",
    "                                         frame_id_wrist, frame_id_elbow, np.zeros(5))\n",
    "    \n",
    "    for n in range(len(wrist_rel)):\n",
    "        p_des_wrist = wrist_rel[n, :]\n",
    "        p_des_elbow = elbow_rel[n, :]\n",
    "        angles = findAngleTwoFrames(robot, p_des_wrist, p_des_elbow, \n",
    "                                    frame_id_wrist, frame_id_elbow, angles_previous)\n",
    "        \n",
    "        if isinstance(angles, bool):\n",
    "            angles = angles_previous\n",
    "        else: \n",
    "            angles_previous = findAngleTwoFrames(robot, p_des_wrist, p_des_elbow, \n",
    "                                                 frame_id_wrist, frame_id_elbow, angles_previous)          \n",
    "            \n",
    "        traj_q[n, :] = angles\n",
    "\n",
    "\n",
    "    return traj_q"
   ]
  },
  {
   "cell_type": "code",
   "execution_count": 11,
   "id": "444001d3",
   "metadata": {},
   "outputs": [],
   "source": [
    "traj_q = calculateJointTrajWristElbow(traj)\n",
    "visualizeJointTraj(traj_q, viz)"
   ]
  }
 ],
 "metadata": {
  "kernelspec": {
   "display_name": "Python 3 (ipykernel)",
   "language": "python",
   "name": "python3"
  },
  "language_info": {
   "codemirror_mode": {
    "name": "ipython",
    "version": 3
   },
   "file_extension": ".py",
   "mimetype": "text/x-python",
   "name": "python",
   "nbconvert_exporter": "python",
   "pygments_lexer": "ipython3",
   "version": "3.9.7"
  }
 },
 "nbformat": 4,
 "nbformat_minor": 5
}
